{
 "cells": [
  {
   "cell_type": "code",
   "execution_count": 1,
   "metadata": {},
   "outputs": [
    {
     "name": "stdout",
     "output_type": "stream",
     "text": [
      "Olá Mundo\n"
     ]
    }
   ],
   "source": [
    "# Crie um programa que escreva Ola Mundo na tela\n",
    "ola_mundo = 'Olá Mundo'\n",
    "print(ola_mundo)"
   ]
  },
  {
   "cell_type": "code",
   "execution_count": 2,
   "metadata": {},
   "outputs": [
    {
     "name": "stdout",
     "output_type": "stream",
     "text": [
      "francisco douglas Voce tem 29 anos Seja bem vindo ao mundo do Python\n"
     ]
    }
   ],
   "source": [
    "#: Faça um programa que leia o nome de uma pessoa e mostre uma mensagem de boas-vindas.\n",
    "nome = input('Digite o seu nome: ')\n",
    "idade = int(input('Digite sua idade: '))\n",
    "mensagem = 'Seja bem vindo ao mundo do Python'\n",
    "\n",
    "print(f'{nome} Voce tem {idade} anos {mensagem}')"
   ]
  },
  {
   "cell_type": "code",
   "execution_count": 1,
   "metadata": {},
   "outputs": [
    {
     "name": "stdout",
     "output_type": "stream",
     "text": [
      "A Soma de 3 + 4 = 7\n"
     ]
    }
   ],
   "source": [
    "#Crie um programa que leia dois números e mostre a soma entre eles.\n",
    "num1 = int(input('Primeiro Numero: '))\n",
    "num2 = int(input('Segundo numero: '))\n",
    "soma = num1 + num2\n",
    "\n",
    "print(f'A Soma de {num1} + {num2} = {soma}')"
   ]
  },
  {
   "cell_type": "code",
   "execution_count": 4,
   "metadata": {},
   "outputs": [
    {
     "name": "stdout",
     "output_type": "stream",
     "text": [
      "E uma string False\n",
      "E Alfabetico False\n",
      "E Numerico False\n",
      "E um numero True\n",
      "Esta em Maiuscula False\n",
      "Esta em Minusculo True\n"
     ]
    }
   ],
   "source": [
    "'''Faça um programa que leia algo pelo teclado e mostre na tela o seu tipo \n",
    "primitivo e todas as informações possíveis sobre ele.'''\n",
    "\n",
    "obejto = input('Digite algo')\n",
    "\n",
    "print(f'E uma string {obejto.istitle()}')\n",
    "print(f'E Alfabetico {obejto.isalpha()}')\n",
    "print(f'E Numerico {obejto.isnumeric()}')\n",
    "print(f'E um numero {obejto.isalnum()}')\n",
    "print(f'Esta em Maiuscula {obejto.isupper()}')\n",
    "print(f'Esta em Minusculo {obejto.islower()}')\n"
   ]
  },
  {
   "cell_type": "code",
   "execution_count": 1,
   "metadata": {},
   "outputs": [],
   "source": [
    "'''Inteiro (int):\n",
    "Representa números inteiros, positivos ou negativos, sem parte decimal.'''\n",
    "numero_inteiro = 42\n",
    "numero_negativo = -7"
   ]
  },
  {
   "cell_type": "code",
   "execution_count": 2,
   "metadata": {},
   "outputs": [],
   "source": [
    "'''Ponto Flutuante (float):\n",
    "Representa números reais, ou seja, números que possuem parte inteira e parte decimal.'''\n",
    "numero_ponto_flutuante = 3.14\n",
    "numero_negativo_float = -2.718\n"
   ]
  },
  {
   "cell_type": "code",
   "execution_count": 3,
   "metadata": {},
   "outputs": [],
   "source": [
    "'''Booleano (bool):\n",
    "Representa valores booleanos, que podem ser True ou False.'''\n",
    "verdadeiro = True\n",
    "falso = False\n"
   ]
  },
  {
   "cell_type": "code",
   "execution_count": 4,
   "metadata": {},
   "outputs": [],
   "source": [
    "'''String (str):\n",
    "Representa sequências de caracteres (texto).'''\n",
    "texto = \"Olá, mundo!\"\n",
    "caractere_unico = 'a'\n"
   ]
  },
  {
   "cell_type": "code",
   "execution_count": 5,
   "metadata": {},
   "outputs": [],
   "source": [
    "'''Nenhum Tipo (NoneType):\n",
    "Representa a ausência de valor ou um valor nulo.'''\n",
    "nenhum_valor = None"
   ]
  },
  {
   "cell_type": "code",
   "execution_count": 6,
   "metadata": {},
   "outputs": [
    {
     "name": "stdout",
     "output_type": "stream",
     "text": [
      "<class 'int'>\n",
      "<class 'float'>\n",
      "<class 'bool'>\n",
      "<class 'str'>\n",
      "<class 'NoneType'>\n"
     ]
    }
   ],
   "source": [
    "# Inteiro\n",
    "idade = 25\n",
    "print(type(idade))  # <class 'int'>\n",
    "\n",
    "# Ponto Flutuante\n",
    "altura = 1.75\n",
    "print(type(altura))  # <class 'float'>\n",
    "\n",
    "# Booleano\n",
    "is_programmer = True\n",
    "print(type(is_programmer))  # <class 'bool'>\n",
    "\n",
    "# String\n",
    "nome = \"Alice\"\n",
    "print(type(nome))  # <class 'str'>\n",
    "\n",
    "# NoneType\n",
    "sem_valor = None\n",
    "print(type(sem_valor))  # <class 'NoneType'>"
   ]
  },
  {
   "cell_type": "code",
   "execution_count": 7,
   "metadata": {},
   "outputs": [
    {
     "name": "stdout",
     "output_type": "stream",
     "text": [
      "O Sucessor de 45 e 46\n",
      "O Antecessor de 45 e 44\n"
     ]
    }
   ],
   "source": [
    "# Faça um programa que leia um número Inteiro e mostre na tela o seu sucessor e seu antecessor.\n",
    "numero = 45\n",
    "sucessor = numero + 1\n",
    "antecessor = numero - 1\n",
    "\n",
    "print(f'O Sucessor de {numero} e {sucessor}')\n",
    "print(f'O Antecessor de {numero} e {antecessor}')"
   ]
  },
  {
   "cell_type": "code",
   "execution_count": 8,
   "metadata": {},
   "outputs": [
    {
     "name": "stdout",
     "output_type": "stream",
     "text": [
      "O Dobro de 3 e 6, seu triplo e 9 e a raiz sera 1.5\n"
     ]
    }
   ],
   "source": [
    "#Crie um algoritmo que leia um número e mostre o seu dobro, triplo e raiz quadrada.\n",
    "num = int(input('Digite um numero: '))\n",
    "dobro = num * 2\n",
    "triplo = num * 3\n",
    "raiz  = num * (1/2)\n",
    "\n",
    "print(f'O Dobro de {num} e {dobro}, seu triplo e {triplo} e a raiz sera {raiz}')"
   ]
  },
  {
   "cell_type": "code",
   "execution_count": 9,
   "metadata": {},
   "outputs": [
    {
     "name": "stdout",
     "output_type": "stream",
     "text": [
      "Dados as notas 4.0 e 4.0 a Media sera de 4.0 pontos\n"
     ]
    }
   ],
   "source": [
    "#Desenvolva um programa que leia as duas notas de um aluno, calcule e mostre a sua média.\n",
    "\n",
    "nota1 = float(input('Primeira nota; '))\n",
    "nota2 = float(input('Segunda Nota: '))\n",
    "\n",
    "media = (nota1  + nota2) / 2\n",
    "print(f'Dados as notas {nota1} e {nota2} a Media sera de {media} pontos')"
   ]
  },
  {
   "cell_type": "code",
   "execution_count": null,
   "metadata": {},
   "outputs": [],
   "source": []
  },
  {
   "cell_type": "code",
   "execution_count": 1,
   "metadata": {},
   "outputs": [
    {
     "name": "stdout",
     "output_type": "stream",
     "text": [
      "O Comprimento de 34 metros equivalem a 3400 Centimetos e 34000 Milimetros\n"
     ]
    }
   ],
   "source": [
    "#Escreva um programa que leia um valor em metros e o exiba convertido em centímetros e milímetros.\n",
    "metros = int(input('Digite o valor em metros: '))\n",
    "centimetros = metros * 100\n",
    "milimetros = metros * 1000\n",
    "\n",
    "print(f'O Comprimento de {metros} metros equivalem a {centimetros} Centimetos e {milimetros} Milimetros')"
   ]
  },
  {
   "cell_type": "code",
   "execution_count": 2,
   "metadata": {},
   "outputs": [
    {
     "name": "stdout",
     "output_type": "stream",
     "text": [
      "1 x 3 = 3\n",
      "2 x 3 = 6\n",
      "3 x 3 = 9\n",
      "4 x 3 = 12\n",
      "5 x 3 = 15\n",
      "6 x 3 = 18\n",
      "7 x 3 = 21\n",
      "8 x 3 = 24\n",
      "9 x 3 = 27\n",
      "10 x 3 = 30\n"
     ]
    }
   ],
   "source": [
    "#Faça um programa que leia um número Inteiro qualquer e mostre na tela a sua tabuada.\n",
    "for c in range(1, 11):\n",
    "    print(f'{c} x 3 = {c*3}')"
   ]
  },
  {
   "cell_type": "code",
   "execution_count": 3,
   "metadata": {},
   "outputs": [
    {
     "name": "stdout",
     "output_type": "stream",
     "text": [
      "Uma pessoa com 4567.0 R$ e o Dolar a 4.56 U$ podera compra 1001.54 Dolares\n"
     ]
    }
   ],
   "source": [
    "'''Crie um programa que leia quanto dinheiro uma pessoa tem na carteira e \n",
    "mostre quantos dólares ela pode comprar.'''\n",
    "tot_din = float(input('Digite o total de dinheiro R$: '))\n",
    "valor_dolar = 4.56\n",
    "total_dolares = tot_din / valor_dolar\n",
    "\n",
    "print(f'Uma pessoa com {tot_din} R$ e o Dolar a {valor_dolar} U$ podera compra {total_dolares:.2f} Dolares')"
   ]
  },
  {
   "cell_type": "code",
   "execution_count": 4,
   "metadata": {},
   "outputs": [
    {
     "name": "stdout",
     "output_type": "stream",
     "text": [
      "Uma parede de 5.0 x 6.0 Levara 15.0 Litros de tinta para ser pintada\n"
     ]
    }
   ],
   "source": [
    "'''Faça um programa que leia a largura e a altura de uma parede em metros, \n",
    "calcule a sua área e a quantidade de tinta necessária para pintá-la, \n",
    "sabendo que cada litro de tinta pinta uma área de 2 metros quadrados.'''\n",
    "\n",
    "largura = float(input('Largura da Parede: '))\n",
    "altura = float(input('Altura da Parede: '))\n",
    "total_tintas = (altura * largura) / 2\n",
    "\n",
    "print(f'Uma parede de {largura} x {altura} Levara {total_tintas} Litros de tinta para ser pintada')"
   ]
  },
  {
   "cell_type": "code",
   "execution_count": 5,
   "metadata": {},
   "outputs": [
    {
     "name": "stdout",
     "output_type": "stream",
     "text": [
      "Um produto que custava 567.0 R$ com 5% de desconto passara a custa 538.65 R$\n"
     ]
    }
   ],
   "source": [
    "#Faça um algoritmo que leia o preço de um produto e mostre seu novo preço, com 5% de desconto.\n",
    "v_produto = float(input('Digite o valor do produto: '))\n",
    "desconto = 5\n",
    "novo_preco = v_produto * ((100-5)/100)\n",
    "\n",
    "print(f'Um produto que custava {v_produto} R$ com 5% de desconto passara a custa {novo_preco} R$')"
   ]
  },
  {
   "cell_type": "code",
   "execution_count": 9,
   "metadata": {},
   "outputs": [
    {
     "name": "stdout",
     "output_type": "stream",
     "text": [
      "O Funcionario que ganhava 4500.0 R$ com 15% de aumento passara a ganha 5175.00 R$\n"
     ]
    }
   ],
   "source": [
    "'''Faça um algoritmo que leia o salário de um funcionário e \n",
    "mostre seu novo salário, com 15% de aumento.'''\n",
    "\n",
    "salario = float(input('Digite o salario'))\n",
    "aumento = 15\n",
    "novo_salario = salario * (((aumento + 100) / 100))\n",
    "print(f'O Funcionario que ganhava {salario} R$ com 15% de aumento passara a ganha {novo_salario:.2f} R$')"
   ]
  },
  {
   "cell_type": "code",
   "execution_count": 1,
   "metadata": {},
   "outputs": [
    {
     "name": "stdout",
     "output_type": "stream",
     "text": [
      "A Temperatura em Graus C° 45.0 equivalem a 10.945945945945946 Graus F°\n"
     ]
    }
   ],
   "source": [
    "\"\"\"Escreva um programa que converta uma temperatura digitando em \n",
    "graus Celsius e converta para graus Fahrenheit.\"\"\"\n",
    "\n",
    "graus_c = float(input('Digite os graus Celsius: C° '))\n",
    "f = 9 * graus_c / (5 + 32)\n",
    "print(f'A Temperatura em Graus C° {graus_c} equivalem a {f} Graus F°')"
   ]
  },
  {
   "cell_type": "code",
   "execution_count": 2,
   "metadata": {},
   "outputs": [
    {
     "name": "stdout",
     "output_type": "stream",
     "text": [
      "Um carro que ficou alugado por 6 dias e que percorreu 456.0 km, tera um custo de 428.40 R$\n"
     ]
    }
   ],
   "source": [
    "'''Escreva um programa que pergunte a quantidade de Km percorridos por um carro \n",
    "alugado e a quantidade de dias pelos quais ele foi alugado. Calcule o preço a pagar, \n",
    "sabendo que o carro custa R$60 por dia e R$0,15 por Km rodado.'''\n",
    "\n",
    "km = float(input('Km percorridos: '))\n",
    "dias = int(input('Dias que ficou alugado: '))\n",
    "custo  = (km * 0.15) + (dias * 60)\n",
    "\n",
    "print(f'Um carro que ficou alugado por {dias} dias e que percorreu {km} km, tera um custo de {custo:.2f} R$')"
   ]
  },
  {
   "cell_type": "code",
   "execution_count": 3,
   "metadata": {},
   "outputs": [
    {
     "name": "stdout",
     "output_type": "stream",
     "text": [
      "O Numero 456.77 Truncado com trunc ficara 456\n",
      "O Numero 456.77 convertido para int sera 456\n",
      "O Numero 456.77 com 0 casas decimais sera 457\n"
     ]
    }
   ],
   "source": [
    "#Crie um programa que leia um número Real qualquer pelo teclado e mostre na tela a sua porção Inteira.\n",
    "from math import trunc\n",
    "\n",
    "numer = float(input('Digite um numero: '))\n",
    "print(f'O Numero {numer} Truncado com trunc ficara {trunc(numer)}')\n",
    "print(f'O Numero {numer} convertido para int sera {int(numer)}')\n",
    "print(f'O Numero {numer} com 0 casas decimais sera {numer:.0f}')"
   ]
  },
  {
   "cell_type": "code",
   "execution_count": null,
   "metadata": {},
   "outputs": [],
   "source": []
  },
  {
   "cell_type": "code",
   "execution_count": null,
   "metadata": {},
   "outputs": [],
   "source": []
  },
  {
   "cell_type": "code",
   "execution_count": null,
   "metadata": {},
   "outputs": [],
   "source": []
  },
  {
   "cell_type": "code",
   "execution_count": null,
   "metadata": {},
   "outputs": [],
   "source": []
  },
  {
   "cell_type": "code",
   "execution_count": null,
   "metadata": {},
   "outputs": [],
   "source": []
  },
  {
   "cell_type": "code",
   "execution_count": null,
   "metadata": {},
   "outputs": [],
   "source": []
  },
  {
   "cell_type": "code",
   "execution_count": null,
   "metadata": {},
   "outputs": [],
   "source": []
  },
  {
   "cell_type": "code",
   "execution_count": null,
   "metadata": {},
   "outputs": [],
   "source": []
  },
  {
   "cell_type": "code",
   "execution_count": null,
   "metadata": {},
   "outputs": [],
   "source": []
  },
  {
   "cell_type": "code",
   "execution_count": null,
   "metadata": {},
   "outputs": [],
   "source": []
  },
  {
   "cell_type": "code",
   "execution_count": null,
   "metadata": {},
   "outputs": [],
   "source": []
  },
  {
   "cell_type": "code",
   "execution_count": null,
   "metadata": {},
   "outputs": [],
   "source": []
  },
  {
   "cell_type": "code",
   "execution_count": null,
   "metadata": {},
   "outputs": [],
   "source": []
  },
  {
   "cell_type": "code",
   "execution_count": null,
   "metadata": {},
   "outputs": [],
   "source": []
  },
  {
   "cell_type": "code",
   "execution_count": null,
   "metadata": {},
   "outputs": [],
   "source": []
  },
  {
   "cell_type": "code",
   "execution_count": null,
   "metadata": {},
   "outputs": [],
   "source": []
  },
  {
   "cell_type": "code",
   "execution_count": null,
   "metadata": {},
   "outputs": [],
   "source": []
  }
 ],
 "metadata": {
  "kernelspec": {
   "display_name": "Python 3",
   "language": "python",
   "name": "python3"
  },
  "language_info": {
   "codemirror_mode": {
    "name": "ipython",
    "version": 3
   },
   "file_extension": ".py",
   "mimetype": "text/x-python",
   "name": "python",
   "nbconvert_exporter": "python",
   "pygments_lexer": "ipython3",
   "version": "3.11.7"
  }
 },
 "nbformat": 4,
 "nbformat_minor": 2
}
