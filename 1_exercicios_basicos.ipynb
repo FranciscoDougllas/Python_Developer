{
 "cells": [
  {
   "cell_type": "code",
   "execution_count": 1,
   "metadata": {},
   "outputs": [
    {
     "name": "stdout",
     "output_type": "stream",
     "text": [
      "Olá Mundo\n"
     ]
    }
   ],
   "source": [
    "# Crie um programa que escreva Ola Mundo na tela\n",
    "ola_mundo = 'Olá Mundo'\n",
    "print(ola_mundo)"
   ]
  },
  {
   "cell_type": "code",
   "execution_count": 2,
   "metadata": {},
   "outputs": [
    {
     "name": "stdout",
     "output_type": "stream",
     "text": [
      "francisco douglas Voce tem 29 anos Seja bem vindo ao mundo do Python\n"
     ]
    }
   ],
   "source": [
    "#: Faça um programa que leia o nome de uma pessoa e mostre uma mensagem de boas-vindas.\n",
    "nome = input('Digite o seu nome: ')\n",
    "idade = int(input('Digite sua idade: '))\n",
    "mensagem = 'Seja bem vindo ao mundo do Python'\n",
    "\n",
    "print(f'{nome} Voce tem {idade} anos {mensagem}')"
   ]
  },
  {
   "cell_type": "code",
   "execution_count": 1,
   "metadata": {},
   "outputs": [
    {
     "name": "stdout",
     "output_type": "stream",
     "text": [
      "A Soma de 3 + 4 = 7\n"
     ]
    }
   ],
   "source": [
    "#Crie um programa que leia dois números e mostre a soma entre eles.\n",
    "num1 = int(input('Primeiro Numero: '))\n",
    "num2 = int(input('Segundo numero: '))\n",
    "soma = num1 + num2\n",
    "\n",
    "print(f'A Soma de {num1} + {num2} = {soma}')"
   ]
  },
  {
   "cell_type": "code",
   "execution_count": 4,
   "metadata": {},
   "outputs": [
    {
     "name": "stdout",
     "output_type": "stream",
     "text": [
      "E uma string False\n",
      "E Alfabetico False\n",
      "E Numerico False\n",
      "E um numero True\n",
      "Esta em Maiuscula False\n",
      "Esta em Minusculo True\n"
     ]
    }
   ],
   "source": [
    "'''Faça um programa que leia algo pelo teclado e mostre na tela o seu tipo \n",
    "primitivo e todas as informações possíveis sobre ele.'''\n",
    "\n",
    "obejto = input('Digite algo')\n",
    "\n",
    "print(f'E uma string {obejto.istitle()}')\n",
    "print(f'E Alfabetico {obejto.isalpha()}')\n",
    "print(f'E Numerico {obejto.isnumeric()}')\n",
    "print(f'E um numero {obejto.isalnum()}')\n",
    "print(f'Esta em Maiuscula {obejto.isupper()}')\n",
    "print(f'Esta em Minusculo {obejto.islower()}')\n"
   ]
  },
  {
   "cell_type": "code",
   "execution_count": 1,
   "metadata": {},
   "outputs": [],
   "source": [
    "'''Inteiro (int):\n",
    "Representa números inteiros, positivos ou negativos, sem parte decimal.'''\n",
    "numero_inteiro = 42\n",
    "numero_negativo = -7"
   ]
  },
  {
   "cell_type": "code",
   "execution_count": 2,
   "metadata": {},
   "outputs": [],
   "source": [
    "'''Ponto Flutuante (float):\n",
    "Representa números reais, ou seja, números que possuem parte inteira e parte decimal.'''\n",
    "numero_ponto_flutuante = 3.14\n",
    "numero_negativo_float = -2.718\n"
   ]
  },
  {
   "cell_type": "code",
   "execution_count": 3,
   "metadata": {},
   "outputs": [],
   "source": [
    "'''Booleano (bool):\n",
    "Representa valores booleanos, que podem ser True ou False.'''\n",
    "verdadeiro = True\n",
    "falso = False\n"
   ]
  },
  {
   "cell_type": "code",
   "execution_count": 4,
   "metadata": {},
   "outputs": [],
   "source": [
    "'''String (str):\n",
    "Representa sequências de caracteres (texto).'''\n",
    "texto = \"Olá, mundo!\"\n",
    "caractere_unico = 'a'\n"
   ]
  },
  {
   "cell_type": "code",
   "execution_count": 5,
   "metadata": {},
   "outputs": [],
   "source": [
    "'''Nenhum Tipo (NoneType):\n",
    "Representa a ausência de valor ou um valor nulo.'''\n",
    "nenhum_valor = None"
   ]
  },
  {
   "cell_type": "code",
   "execution_count": 6,
   "metadata": {},
   "outputs": [
    {
     "name": "stdout",
     "output_type": "stream",
     "text": [
      "<class 'int'>\n",
      "<class 'float'>\n",
      "<class 'bool'>\n",
      "<class 'str'>\n",
      "<class 'NoneType'>\n"
     ]
    }
   ],
   "source": [
    "# Inteiro\n",
    "idade = 25\n",
    "print(type(idade))  # <class 'int'>\n",
    "\n",
    "# Ponto Flutuante\n",
    "altura = 1.75\n",
    "print(type(altura))  # <class 'float'>\n",
    "\n",
    "# Booleano\n",
    "is_programmer = True\n",
    "print(type(is_programmer))  # <class 'bool'>\n",
    "\n",
    "# String\n",
    "nome = \"Alice\"\n",
    "print(type(nome))  # <class 'str'>\n",
    "\n",
    "# NoneType\n",
    "sem_valor = None\n",
    "print(type(sem_valor))  # <class 'NoneType'>"
   ]
  },
  {
   "cell_type": "code",
   "execution_count": 7,
   "metadata": {},
   "outputs": [
    {
     "name": "stdout",
     "output_type": "stream",
     "text": [
      "O Sucessor de 45 e 46\n",
      "O Antecessor de 45 e 44\n"
     ]
    }
   ],
   "source": [
    "# Faça um programa que leia um número Inteiro e mostre na tela o seu sucessor e seu antecessor.\n",
    "numero = 45\n",
    "sucessor = numero + 1\n",
    "antecessor = numero - 1\n",
    "\n",
    "print(f'O Sucessor de {numero} e {sucessor}')\n",
    "print(f'O Antecessor de {numero} e {antecessor}')"
   ]
  },
  {
   "cell_type": "code",
   "execution_count": 8,
   "metadata": {},
   "outputs": [
    {
     "name": "stdout",
     "output_type": "stream",
     "text": [
      "O Dobro de 3 e 6, seu triplo e 9 e a raiz sera 1.5\n"
     ]
    }
   ],
   "source": [
    "#Crie um algoritmo que leia um número e mostre o seu dobro, triplo e raiz quadrada.\n",
    "num = int(input('Digite um numero: '))\n",
    "dobro = num * 2\n",
    "triplo = num * 3\n",
    "raiz  = num * (1/2)\n",
    "\n",
    "print(f'O Dobro de {num} e {dobro}, seu triplo e {triplo} e a raiz sera {raiz}')"
   ]
  },
  {
   "cell_type": "code",
   "execution_count": 9,
   "metadata": {},
   "outputs": [
    {
     "name": "stdout",
     "output_type": "stream",
     "text": [
      "Dados as notas 4.0 e 4.0 a Media sera de 4.0 pontos\n"
     ]
    }
   ],
   "source": [
    "#Desenvolva um programa que leia as duas notas de um aluno, calcule e mostre a sua média.\n",
    "\n",
    "nota1 = float(input('Primeira nota; '))\n",
    "nota2 = float(input('Segunda Nota: '))\n",
    "\n",
    "media = (nota1  + nota2) / 2\n",
    "print(f'Dados as notas {nota1} e {nota2} a Media sera de {media} pontos')"
   ]
  },
  {
   "cell_type": "code",
   "execution_count": null,
   "metadata": {},
   "outputs": [],
   "source": []
  },
  {
   "cell_type": "code",
   "execution_count": null,
   "metadata": {},
   "outputs": [],
   "source": []
  },
  {
   "cell_type": "code",
   "execution_count": null,
   "metadata": {},
   "outputs": [],
   "source": []
  },
  {
   "cell_type": "code",
   "execution_count": null,
   "metadata": {},
   "outputs": [],
   "source": []
  },
  {
   "cell_type": "code",
   "execution_count": null,
   "metadata": {},
   "outputs": [],
   "source": []
  },
  {
   "cell_type": "code",
   "execution_count": null,
   "metadata": {},
   "outputs": [],
   "source": []
  },
  {
   "cell_type": "code",
   "execution_count": null,
   "metadata": {},
   "outputs": [],
   "source": []
  },
  {
   "cell_type": "code",
   "execution_count": null,
   "metadata": {},
   "outputs": [],
   "source": []
  },
  {
   "cell_type": "code",
   "execution_count": null,
   "metadata": {},
   "outputs": [],
   "source": []
  },
  {
   "cell_type": "code",
   "execution_count": null,
   "metadata": {},
   "outputs": [],
   "source": []
  },
  {
   "cell_type": "code",
   "execution_count": null,
   "metadata": {},
   "outputs": [],
   "source": []
  },
  {
   "cell_type": "code",
   "execution_count": null,
   "metadata": {},
   "outputs": [],
   "source": []
  },
  {
   "cell_type": "code",
   "execution_count": null,
   "metadata": {},
   "outputs": [],
   "source": []
  },
  {
   "cell_type": "code",
   "execution_count": null,
   "metadata": {},
   "outputs": [],
   "source": []
  },
  {
   "cell_type": "code",
   "execution_count": null,
   "metadata": {},
   "outputs": [],
   "source": []
  },
  {
   "cell_type": "code",
   "execution_count": null,
   "metadata": {},
   "outputs": [],
   "source": []
  },
  {
   "cell_type": "code",
   "execution_count": null,
   "metadata": {},
   "outputs": [],
   "source": []
  },
  {
   "cell_type": "code",
   "execution_count": null,
   "metadata": {},
   "outputs": [],
   "source": []
  },
  {
   "cell_type": "code",
   "execution_count": null,
   "metadata": {},
   "outputs": [],
   "source": []
  },
  {
   "cell_type": "code",
   "execution_count": null,
   "metadata": {},
   "outputs": [],
   "source": []
  },
  {
   "cell_type": "code",
   "execution_count": null,
   "metadata": {},
   "outputs": [],
   "source": []
  },
  {
   "cell_type": "code",
   "execution_count": null,
   "metadata": {},
   "outputs": [],
   "source": []
  },
  {
   "cell_type": "code",
   "execution_count": null,
   "metadata": {},
   "outputs": [],
   "source": []
  },
  {
   "cell_type": "code",
   "execution_count": null,
   "metadata": {},
   "outputs": [],
   "source": []
  },
  {
   "cell_type": "code",
   "execution_count": null,
   "metadata": {},
   "outputs": [],
   "source": []
  },
  {
   "cell_type": "code",
   "execution_count": null,
   "metadata": {},
   "outputs": [],
   "source": []
  },
  {
   "cell_type": "code",
   "execution_count": null,
   "metadata": {},
   "outputs": [],
   "source": []
  }
 ],
 "metadata": {
  "kernelspec": {
   "display_name": "Python 3",
   "language": "python",
   "name": "python3"
  },
  "language_info": {
   "codemirror_mode": {
    "name": "ipython",
    "version": 3
   },
   "file_extension": ".py",
   "mimetype": "text/x-python",
   "name": "python",
   "nbconvert_exporter": "python",
   "pygments_lexer": "ipython3",
   "version": "3.12.3"
  }
 },
 "nbformat": 4,
 "nbformat_minor": 2
}
